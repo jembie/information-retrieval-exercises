{
  "cells": [
    {
      "cell_type": "markdown",
      "metadata": {
        "id": "NJfzpMs9Kx1g"
      },
      "source": [
        "# Lab 1 - Data Manipulation with Pandas\n"
      ]
    },
    {
      "cell_type": "markdown",
      "metadata": {},
      "source": [
        "<div>\n",
        "<img src=\"../../images/lab01/pandas_logo.png\" width=\"700\"/>\n",
        "</div>\n",
        "\n",
        "_(Adapted from [CS109a: Introduction to Data Science](https://harvard-iacs.github.io/2019-CS109A/), [Pandas: Getting Started](https://pandas.pydata.org/docs/getting_started/index.html) & [GitHub: pandas_exercises](https://github.com/guipsamora))_\n"
      ]
    },
    {
      "cell_type": "markdown",
      "metadata": {},
      "source": [
        "# 1. Quick Overview\n"
      ]
    },
    {
      "cell_type": "code",
      "execution_count": null,
      "metadata": {},
      "outputs": [],
      "source": [
        "import pandas as pd\n",
        "\n",
        "from pathlib import Path\n",
        "from typing import List\n",
        "\n",
        "# Initialize a base path for us to use\n",
        "BASE_PATH = Path().cwd()\n",
        "\n",
        "BASE_PATH"
      ]
    },
    {
      "cell_type": "markdown",
      "metadata": {},
      "source": [
        "## How is a DataFrame structured?\n",
        "\n",
        "<div>\n",
        "<img src=\"../../images/lab01/pandas_structure.png\" width=\"700\"/>\n",
        "</div>\n"
      ]
    },
    {
      "cell_type": "markdown",
      "metadata": {},
      "source": [
        "Getting started with using pandas\n"
      ]
    },
    {
      "cell_type": "code",
      "execution_count": null,
      "metadata": {},
      "outputs": [],
      "source": [
        "df = pd.DataFrame(\n",
        "    {\n",
        "        \"Name\": [\n",
        "            \"Braund, Mr. Owen Harris\",\n",
        "            \"Allen, Mr. William Henry\",\n",
        "            \"Bonnell, Miss. Elizabeth\",\n",
        "        ],\n",
        "        \"Age\": [22, 35, 58],\n",
        "        \"Sex\": [\"male\", \"male\", \"female\"],\n",
        "    }\n",
        ")\n",
        "\n",
        "df"
      ]
    },
    {
      "cell_type": "code",
      "execution_count": null,
      "metadata": {},
      "outputs": [],
      "source": [
        "df[[\"Age\"]]"
      ]
    },
    {
      "cell_type": "markdown",
      "metadata": {},
      "source": [
        "When selecting a single column of a pandas **`DataFrame`**, the result is a pandas **`Series`**.\n"
      ]
    },
    {
      "cell_type": "code",
      "execution_count": null,
      "metadata": {},
      "outputs": [],
      "source": [
        "type(df[\"Age\"])"
      ]
    },
    {
      "cell_type": "markdown",
      "metadata": {},
      "source": [
        "A pandas **`Series`** has no column labels, as it is just a single column of a **`DataFrame`**. A Series does have row labels.\n"
      ]
    },
    {
      "cell_type": "code",
      "execution_count": null,
      "metadata": {},
      "outputs": [],
      "source": [
        "# Access the series by the index (row label)\n",
        "series = df[\"Age\"]\n",
        "\n",
        "series.loc[series.index % 2 == 0]"
      ]
    },
    {
      "cell_type": "markdown",
      "metadata": {},
      "source": [
        "## How do we get data inside a DataFrame?\n",
        "\n",
        "<div>\n",
        "<img src=\"../../images/lab01/pandas_read_data.png\" width=\"700\"/>\n",
        "</div>\n",
        "\n",
        "Pretty simple, just use the (hopefully existing) **`read_<file_extension>`** method:\n"
      ]
    },
    {
      "cell_type": "code",
      "execution_count": null,
      "metadata": {},
      "outputs": [],
      "source": [
        "DATA_PATH = BASE_PATH / \"data\"\n",
        "\n",
        "titanic = pd.read_csv(DATA_PATH / \"titanic\" / \"titanic.csv\", index_col=0)\n",
        "titanic"
      ]
    },
    {
      "cell_type": "markdown",
      "metadata": {},
      "source": [
        "The great thing about this modular approach, is that if we know that the file extension maps one to one to an existing pandas method, then we have nothing to worry about.\n",
        "\n",
        "_Note: (If we were working with something like `xls` or `xlsx`, which are 'Microsoft Excel Open XML,' we would need map to the according method)_\n"
      ]
    },
    {
      "cell_type": "code",
      "execution_count": null,
      "metadata": {},
      "outputs": [],
      "source": [
        "def load_data(data_path: Path) -> List[pd.DataFrame]:\n",
        "    \"\"\"Loads all readable data files from a given directory into pandas DataFrames.\n",
        "\n",
        "    Args:\n",
        "        data_path (Path): Path object representing the base directory\n",
        "            containing the data files.\n",
        "\n",
        "    Returns:\n",
        "        List[pd.DataFrame]: A list of pandas DataFrames, one per successfully\n",
        "            loaded file.\n",
        "    \"\"\"\n",
        "    files_found = [path for path in data_path.glob(\"*\") if path.is_file()]\n",
        "\n",
        "    result = []\n",
        "    for found in files_found:\n",
        "        # Give us the file extension (.<ext>) and then remove the '.' leaving us only with <ext>\n",
        "        file_extension = found.suffix.lstrip(\".\")\n",
        "\n",
        "        read_method = getattr(pd, f\"read_{file_extension}\")\n",
        "        if callable(read_method):\n",
        "            result.append(read_method(found))\n",
        "\n",
        "    return result"
      ]
    },
    {
      "cell_type": "code",
      "execution_count": null,
      "metadata": {},
      "outputs": [],
      "source": [
        "data = load_data(DATA_PATH / \"titanic\")\n",
        "\n",
        "print(f\"Found: '{len(data)}' DataFrames\")\n",
        "data[2]"
      ]
    },
    {
      "cell_type": "markdown",
      "metadata": {},
      "source": [
        "To check on how pandas interpreted each of the column data types can be done by requesting the pandas **`dtypes`** attribute:\n"
      ]
    },
    {
      "cell_type": "code",
      "execution_count": null,
      "metadata": {},
      "outputs": [],
      "source": [
        "titanic.dtypes"
      ]
    },
    {
      "cell_type": "markdown",
      "metadata": {},
      "source": [
        "Here, for each of the columns, the used data type is enlisted. The data types in this **`DataFrame`** are integers (**`int64`**), floats (**`float64`**) and strings (**`object`**).\n",
        "\n",
        "What is the (potential) consequence of **`dtype`** being **`object`** for strings? <br>\n",
        "$\\rightarrow$ Might not be the fastest approach & we also can't simply apply numerical operations\n",
        "\n",
        "###### _Note:_ (_Starting pandas v3.0 the pyarrow string type will actually be the default string data type, for more see:_ https://pandas.pydata.org/docs/user_guide/migration-3-strings.html#background)\n"
      ]
    },
    {
      "cell_type": "code",
      "execution_count": null,
      "metadata": {},
      "outputs": [],
      "source": [
        "import pandas as pd\n",
        "\n",
        "n = 1_000_000\n",
        "series_obj = pd.Series([\"hello\"] * n, dtype=object) # Numpy ndarray\n",
        "series_arrow = series_obj.astype(\"string[pyarrow]\") # pyarrow string\n",
        "\n",
        "print(series_obj.dtype)\n",
        "print(series_arrow.dtype)\n",
        "\n",
        "print(\"\\nBenchmarking .str.upper() ...\")\n",
        "\n",
        "print(\"object dtype:\")\n",
        "%timeit series_obj.str.upper()\n",
        "\n",
        "print(\"string[pyarrow] dtype:\")\n",
        "%timeit series_arrow.str.upper()"
      ]
    },
    {
      "cell_type": "markdown",
      "metadata": {},
      "source": [
        "## How can you work with pandas DataFrames?\n"
      ]
    },
    {
      "cell_type": "markdown",
      "metadata": {},
      "source": [
        "The Titanic data set consists of the following data columns:\n",
        "\n",
        "- **`PassengerId`**: Id of every passenger (implicit index of the row).\n",
        "\n",
        "- **`Survived`**: Indication whether passenger survived. 0 for yes and 1 for no.\n",
        "\n",
        "- **`Pclass`**: One out of the 3 ticket classes: Class 1, Class 2 and Class 3.\n",
        "\n",
        "- **`Name`**: Name of passenger.\n",
        "\n",
        "- **`Sex`**: Gender of passenger.\n",
        "\n",
        "- **`Age`**: Age of passenger in years.\n",
        "\n",
        "- **`SibSp`**: Number of siblings or spouses aboard.\n",
        "\n",
        "- **`Parch`**: Number of parents or children aboard.\n",
        "\n",
        "- **`Ticket`**: Ticket number of passenger.\n",
        "\n",
        "- **`Fare`**: Indicating the fare.\n",
        "\n",
        "- **`Cabin`**: Cabin number of passenger.\n",
        "\n",
        "- **`Embarked`**: Port of embarkation.\n"
      ]
    },
    {
      "cell_type": "markdown",
      "metadata": {},
      "source": [
        "<div>\n",
        "<img src=\"../../images/lab01/pandas_columns.png\" width=\"700\"/>\n",
        "</div>\n"
      ]
    },
    {
      "cell_type": "code",
      "execution_count": null,
      "metadata": {},
      "outputs": [],
      "source": []
    },
    {
      "cell_type": "markdown",
      "metadata": {},
      "source": [
        "Why did this fail? Are we sure we got the columns right?\n"
      ]
    },
    {
      "cell_type": "code",
      "execution_count": null,
      "metadata": {},
      "outputs": [],
      "source": []
    },
    {
      "cell_type": "markdown",
      "metadata": {},
      "source": [
        "The columns don't match our expected specifications, but we can adjust this easily\n"
      ]
    },
    {
      "cell_type": "code",
      "execution_count": null,
      "metadata": {},
      "outputs": [],
      "source": [
        "# Change the columns to match our specification from above"
      ]
    },
    {
      "cell_type": "markdown",
      "metadata": {},
      "source": [
        "<div>\n",
        "<img src=\"../../images/lab01/pandas_rows.png\" width=\"700\"/>\n",
        "</div>\n"
      ]
    },
    {
      "cell_type": "code",
      "execution_count": null,
      "metadata": {},
      "outputs": [],
      "source": [
        "# Let's see how many passengers were on the titanic, who were older than 35 years at that time"
      ]
    },
    {
      "cell_type": "markdown",
      "metadata": {},
      "source": [
        "The condition inside the selection brackets **`titanic[\"Age\"] > 35`** checks for which rows the **`Age`** column has a value larger than 35, so:\n",
        "\n",
        "```py\n",
        "titanic[\"Age\"] > 35\n",
        "0      False\n",
        "1       True\n",
        "2      False\n",
        "3      False\n",
        "4      False\n",
        "       ...\n",
        "886    False\n",
        "887    False\n",
        "888    False\n",
        "889    False\n",
        "890    False\n",
        "Name: Age, Length: 891, dtype: bool\n",
        "```\n",
        "\n",
        "returns a pandas **`Series`** of boolean values, which are either **`True`** or **`False`**, with the same number of rows as the original **`DataFrame`**.\n"
      ]
    },
    {
      "cell_type": "code",
      "execution_count": null,
      "metadata": {},
      "outputs": [],
      "source": []
    },
    {
      "cell_type": "markdown",
      "metadata": {},
      "source": [
        "<div>\n",
        "<img src=\"../../images/lab01/pandas_specify.png\" width=\"700\"/>\n",
        "</div>\n"
      ]
    },
    {
      "cell_type": "markdown",
      "metadata": {},
      "source": [
        "Let's say, we are only interested in the names of passengers that were older than 35 years\n"
      ]
    },
    {
      "cell_type": "code",
      "execution_count": null,
      "metadata": {},
      "outputs": [],
      "source": []
    },
    {
      "cell_type": "markdown",
      "metadata": {},
      "source": [
        "In this case, a subset of both rows and columns is made in one go and just using selection brackets **`[]`** is not sufficient anymore. The **`loc`**/**`iloc`** operators are required in front of the selection brackets **`[]`**.\n",
        "\n",
        "When using **`loc`**/**`iloc`**, the part before the comma is the **rows** you want, and the part after the comma is the **columns** you want to select.\n",
        "\n",
        "For both the part before and after the comma, you can use a single label, a **list** of labels, a **slice** of labels, a **conditional expression** or a **colon**. Using a colon specifies you want to select all rows or columns.\n"
      ]
    },
    {
      "cell_type": "code",
      "execution_count": null,
      "metadata": {},
      "outputs": [],
      "source": []
    },
    {
      "cell_type": "markdown",
      "metadata": {},
      "source": [
        "When specifically interested in certain rows and/or columns **based on their position** in the table, use the **`iloc`** operator in front of the selection brackets **`[]`**\n"
      ]
    },
    {
      "cell_type": "code",
      "execution_count": null,
      "metadata": {},
      "outputs": [],
      "source": [
        "# Of course you can also mix the ideas of iloc and loc, which makes it easier to avoid accidental column selections"
      ]
    },
    {
      "cell_type": "markdown",
      "metadata": {},
      "source": [
        "<div>\n",
        "<img src=\"../../images/lab01/pandas_groupby.png\" width=\"700\"/>\n",
        "</div>\n",
        "\n",
        "What is the average age for male versus female Titanic passengers?\n"
      ]
    },
    {
      "cell_type": "code",
      "execution_count": null,
      "metadata": {},
      "outputs": [],
      "source": []
    },
    {
      "cell_type": "markdown",
      "metadata": {},
      "source": [
        "Since we are interested in the average age for each gender, we first do a subselection on these two columns(**`titanic[[\"Sex\", \"Age\"]]`**). Next, we apply the **`groupby()`** method on the **`Sex`** column to create one group per category (and since there are only two values in the column, we will have two groups created). Last, the average each for each category is calculated and returned.\n",
        "\n",
        "This approach is the general **`split-apply-combine`** pattern:\n",
        "\n",
        "- **Split** the data into groups\n",
        "- **Apply** a function to each group independently\n",
        "- **Combine** the results into a data structure\n"
      ]
    },
    {
      "cell_type": "code",
      "execution_count": null,
      "metadata": {},
      "outputs": [],
      "source": [
        "# Why can't we just apply the groupby operation directly?"
      ]
    },
    {
      "cell_type": "code",
      "execution_count": null,
      "metadata": {},
      "outputs": [],
      "source": [
        "# Recalling the dtypes, we are applying a numeric operation on types that are incompatible with the operation.\n",
        "\n",
        "\n",
        "# We can avoid this by passing `numeric_only=True`"
      ]
    },
    {
      "cell_type": "markdown",
      "metadata": {},
      "source": [
        "<div>\n",
        "<img src=\"../../images/lab01/pandas_count.png\" width=\"700\"/>\n",
        "</div>\n",
        "What is the number of passengers in each of the cabin classes?\n"
      ]
    },
    {
      "cell_type": "code",
      "execution_count": null,
      "metadata": {},
      "outputs": [],
      "source": []
    },
    {
      "cell_type": "markdown",
      "metadata": {},
      "source": [
        "The **`value_counts()`** method counts the number of records for each distinct value in a column. It is a shortcut method, as it is actually a groupby operation in combination with counting of the number of records within each group:\n",
        "\n",
        "```py\n",
        "titanic.groupby(\"Pclass\")[\"Pclass\"].count()\n",
        "Pclass\n",
        "1    216\n",
        "2    184\n",
        "3    491\n",
        "Name: Pclass, dtype: int64\n",
        "```\n"
      ]
    },
    {
      "cell_type": "markdown",
      "metadata": {},
      "source": [
        "# 2. Exercises\n",
        "\n",
        "Summary of operations & Documentation available at: https://pandas.pydata.org/docs/user_guide/10min.html\n"
      ]
    },
    {
      "cell_type": "markdown",
      "metadata": {},
      "source": [
        "### Give the percentage of survivors\n"
      ]
    },
    {
      "cell_type": "code",
      "execution_count": null,
      "metadata": {},
      "outputs": [],
      "source": []
    },
    {
      "cell_type": "markdown",
      "metadata": {},
      "source": [
        "### What is the average age and gender of the survivors compared to the people that didn't survive?\n",
        "\n",
        "**Note**: Pandas does automatically exclude NaN numbers from aggregation functions. If the only value in the column is NaN, then we must take the aggregate value of an empty set, which is results in NaN\n"
      ]
    },
    {
      "cell_type": "code",
      "execution_count": null,
      "metadata": {},
      "outputs": [],
      "source": []
    },
    {
      "cell_type": "markdown",
      "metadata": {},
      "source": [
        "### Create a new column, called `AgeGroup`, which classifies the person based on their **`Age`** as follows:\n",
        "\n",
        "- If 0 < **`Age`** <= 1, then classify them as **`Infant`**\n",
        "- If 1 < **`Age`** <= 3, then classify them as **`Toddler`**\n",
        "- If 3 < **`Age`** <= 12, then classify them as **`Child`**\n",
        "- If 12 < **`Age`** <= 18, then classify them as **`Teen`**\n",
        "- if 18 < **`Age`** <= 30, then classify them as **`YoungAdult`**\n",
        "- If 30 < **`Age`** <= 50, then classify them as **`Adult`**\n",
        "- If 50 < **`Age`** <= 80, then classify them as **`Senior`**\n",
        "- If 80 < **`Age`** <= 130, then classify them as **`Urgestein`**\n"
      ]
    },
    {
      "cell_type": "code",
      "execution_count": null,
      "metadata": {},
      "outputs": [],
      "source": []
    },
    {
      "cell_type": "markdown",
      "metadata": {},
      "source": [
        "### Now, measure the survival rate by age group\n"
      ]
    },
    {
      "cell_type": "code",
      "execution_count": null,
      "metadata": {},
      "outputs": [],
      "source": []
    },
    {
      "cell_type": "markdown",
      "metadata": {},
      "source": [
        "## Working with Chipotle\n"
      ]
    },
    {
      "cell_type": "markdown",
      "metadata": {},
      "source": [
        "Load the **`chipotle.csv`** from the **`data/chipotle`** directory.\n",
        "\n",
        "Tip: perhaps some detail in the documentation is necessary to load the file.\n"
      ]
    },
    {
      "cell_type": "code",
      "execution_count": null,
      "metadata": {},
      "outputs": [],
      "source": [
        "chipo_path = ..."
      ]
    },
    {
      "cell_type": "markdown",
      "metadata": {},
      "source": [
        "### Inspect the first 10 entries\n"
      ]
    },
    {
      "cell_type": "code",
      "execution_count": null,
      "metadata": {},
      "outputs": [],
      "source": []
    },
    {
      "cell_type": "code",
      "execution_count": null,
      "metadata": {},
      "outputs": [],
      "source": []
    },
    {
      "cell_type": "markdown",
      "metadata": {},
      "source": [
        "### What is the number of columns in the dataset?\n"
      ]
    },
    {
      "cell_type": "code",
      "execution_count": null,
      "metadata": {},
      "outputs": [],
      "source": []
    },
    {
      "cell_type": "markdown",
      "metadata": {},
      "source": [
        "### Print the name of all the columns.\n"
      ]
    },
    {
      "cell_type": "code",
      "execution_count": null,
      "metadata": {},
      "outputs": [],
      "source": []
    },
    {
      "cell_type": "markdown",
      "metadata": {},
      "source": [
        "### How is the dataset indexed?\n"
      ]
    },
    {
      "cell_type": "code",
      "execution_count": null,
      "metadata": {},
      "outputs": [],
      "source": []
    },
    {
      "cell_type": "markdown",
      "metadata": {},
      "source": [
        "### What were the ten most-ordered items? And how often were they ordered?\n"
      ]
    },
    {
      "cell_type": "code",
      "execution_count": null,
      "metadata": {},
      "outputs": [],
      "source": [
        "# Solution: Chicken Bowl: 761, ..."
      ]
    },
    {
      "cell_type": "markdown",
      "metadata": {},
      "source": [
        "### How many items were ordered in total?\n"
      ]
    },
    {
      "cell_type": "code",
      "execution_count": null,
      "metadata": {},
      "outputs": [],
      "source": []
    },
    {
      "cell_type": "markdown",
      "metadata": {},
      "source": [
        "### How much was the revenue for the period in the dataset?\n",
        "\n",
        "Tip: if you are running into issues, check the type of the column(s) that you need to work with. Perhaps you need preprocessing before proceeding with some steps\n"
      ]
    },
    {
      "cell_type": "code",
      "execution_count": null,
      "metadata": {},
      "outputs": [],
      "source": []
    },
    {
      "cell_type": "code",
      "execution_count": null,
      "metadata": {},
      "outputs": [],
      "source": []
    },
    {
      "cell_type": "code",
      "execution_count": null,
      "metadata": {},
      "outputs": [],
      "source": [
        "revenue = ...\n",
        "\n",
        "print(\"Revenue was: $\" + str(round(revenue, 2)))\n",
        "# Solution: Revenue was: $39237.02"
      ]
    },
    {
      "cell_type": "markdown",
      "metadata": {},
      "source": [
        "### How many orders were made in the period?\n"
      ]
    },
    {
      "cell_type": "code",
      "execution_count": null,
      "metadata": {},
      "outputs": [],
      "source": []
    },
    {
      "cell_type": "markdown",
      "metadata": {},
      "source": [
        "### What is the lowest, average, and highest revenue per order?\n"
      ]
    },
    {
      "cell_type": "code",
      "execution_count": null,
      "metadata": {},
      "outputs": [],
      "source": [
        "# Solution: mean: 21.394...; min: 10.08; max: 1074.24; median: 16.65"
      ]
    },
    {
      "cell_type": "markdown",
      "metadata": {},
      "source": [
        "### How many different items are sold?\n"
      ]
    },
    {
      "cell_type": "code",
      "execution_count": null,
      "metadata": {},
      "outputs": [],
      "source": [
        "# Solution: 50"
      ]
    },
    {
      "cell_type": "markdown",
      "metadata": {},
      "source": [
        "### How many products cost more than $10.00 ?\n",
        "\n",
        "Tip: Inspect the item_price column for a specific item to see how the price and item_name relate to each other.\n"
      ]
    },
    {
      "cell_type": "code",
      "execution_count": null,
      "metadata": {},
      "outputs": [],
      "source": []
    },
    {
      "cell_type": "code",
      "execution_count": null,
      "metadata": {},
      "outputs": [],
      "source": [
        "# item_name and choice_description appear is pairs multiple times, so we must drop them to avoid falsifying our results\n",
        "\n",
        "# Solution: 707 rows"
      ]
    },
    {
      "cell_type": "markdown",
      "metadata": {},
      "source": [
        "### How many different product prices exist?\n"
      ]
    },
    {
      "cell_type": "code",
      "execution_count": null,
      "metadata": {},
      "outputs": [],
      "source": [
        "# Solution: 37"
      ]
    },
    {
      "cell_type": "markdown",
      "metadata": {},
      "source": [
        "### What is the quantity of the most expensive **item** ordered?\n"
      ]
    },
    {
      "cell_type": "code",
      "execution_count": null,
      "metadata": {},
      "outputs": [],
      "source": []
    },
    {
      "cell_type": "markdown",
      "metadata": {},
      "source": [
        "### How many times did someone order more than one Canned Soda?\n"
      ]
    },
    {
      "cell_type": "code",
      "execution_count": null,
      "metadata": {},
      "outputs": [],
      "source": []
    },
    {
      "cell_type": "markdown",
      "metadata": {},
      "source": [
        "### List the full order of the person that wanted the most canned sodas.\n"
      ]
    },
    {
      "cell_type": "code",
      "execution_count": null,
      "metadata": {},
      "outputs": [],
      "source": []
    },
    {
      "cell_type": "markdown",
      "metadata": {},
      "source": [
        "### (Advanced): Create a profitability report about the menu, which includes for each item:\n",
        "\n",
        "- Total quantity sold\n",
        "- Total revenue generated\n",
        "- Number of **unique** orders containing the item\n",
        "- Average selling price per unit\n",
        "\n",
        "At the end, rank the items by their revenue contribution (% of total revenue)\n"
      ]
    },
    {
      "cell_type": "code",
      "execution_count": null,
      "metadata": {},
      "outputs": [],
      "source": []
    },
    {
      "cell_type": "markdown",
      "metadata": {},
      "source": [
        "### (Advanced): Are there price inconsistencies? If so, list them.\n",
        "\n",
        "Background: Some items on our menu may have been sold at different prices, e.g. depending on add-ons. Find all items that have more than one unique price and list their price ranges.\n"
      ]
    },
    {
      "cell_type": "code",
      "execution_count": null,
      "metadata": {},
      "outputs": [],
      "source": []
    }
  ],
  "metadata": {
    "colab": {
      "provenance": []
    },
    "kernelspec": {
      "display_name": ".venv",
      "language": "python",
      "name": "python3"
    },
    "language_info": {
      "codemirror_mode": {
        "name": "ipython",
        "version": 3
      },
      "file_extension": ".py",
      "mimetype": "text/x-python",
      "name": "python",
      "nbconvert_exporter": "python",
      "pygments_lexer": "ipython3",
      "version": "3.12.3"
    }
  },
  "nbformat": 4,
  "nbformat_minor": 0
}
